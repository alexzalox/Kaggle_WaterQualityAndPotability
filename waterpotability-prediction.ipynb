{
 "cells": [
  {
   "cell_type": "markdown",
   "id": "bb13a003",
   "metadata": {
    "papermill": {
     "duration": 0.011313,
     "end_time": "2023-09-10T03:02:50.433631",
     "exception": false,
     "start_time": "2023-09-10T03:02:50.422318",
     "status": "completed"
    },
    "tags": []
   },
   "source": [
    "<div style=\"color:white;\n",
    "           display:fill;\n",
    "           border-radius:25px;\n",
    "           background-color:Brown;\n",
    "           font-size:210%;\n",
    "           font-family:Verdana;\n",
    "           letter-spacing:0.5px\">\n",
    "\n",
    "<p style=\"padding: 10px;\n",
    "          color:white;\n",
    "          text-align:center;\"\n",
    "          >\n",
    "       WELCOME TO MY NOTEBOOK\n",
    "</p>\n",
    "</div>"
   ]
  },
  {
   "cell_type": "markdown",
   "id": "f40657fd",
   "metadata": {
    "papermill": {
     "duration": 0.010325,
     "end_time": "2023-09-10T03:02:50.455416",
     "exception": false,
     "start_time": "2023-09-10T03:02:50.445091",
     "status": "completed"
    },
    "tags": []
   },
   "source": [
    "<div style=\"color:white;\n",
    "           display:fill;\n",
    "           border-radius:25px;\n",
    "           background-color:green;\n",
    "           font-size:160%;\n",
    "           font-family:Verdana;\n",
    "           letter-spacing:0.5px\">\n",
    "\n",
    "<p style=\"padding: 10px;\n",
    "          color:white;\n",
    "          text-align:left;\"\n",
    "          >\n",
    "      About Dataset: Water Quality and Potability\n",
    "</p>\n",
    "</div>\n",
    "\n",
    "![](https://i.gifer.com/embedded/download/YVcy.gif)\n",
    "\n",
    "> This dataset contains total 10 Columns, the first 9 columns are used as a input features,namely, PH value, Hardness, Solids, Chloramines, Sulfate, Conductivity, Organic Carbon, Trihalomethanes,Turbidity. In this dataset our main goal is to predict the water potability with values 1 (potable) and 0 (not potable).\n",
    "\n",
    "> Thank you for exploring my notebook, and,  I would really appreciate your support through an upvote😊"
   ]
  },
  {
   "cell_type": "markdown",
   "id": "49be117f",
   "metadata": {
    "papermill": {
     "duration": 0.010244,
     "end_time": "2023-09-10T03:02:50.476460",
     "exception": false,
     "start_time": "2023-09-10T03:02:50.466216",
     "status": "completed"
    },
    "tags": []
   },
   "source": [
    "# Import all the Necessary Libraries "
   ]
  },
  {
   "cell_type": "code",
   "execution_count": null,
   "id": "43518cbe",
   "metadata": {
    "execution": {
     "iopub.execute_input": "2023-09-10T03:02:50.499539Z",
     "iopub.status.busy": "2023-09-10T03:02:50.498887Z",
     "iopub.status.idle": "2023-09-10T03:02:53.069839Z",
     "shell.execute_reply": "2023-09-10T03:02:53.068125Z"
    },
    "papermill": {
     "duration": 2.586321,
     "end_time": "2023-09-10T03:02:53.073311",
     "exception": false,
     "start_time": "2023-09-10T03:02:50.486990",
     "status": "completed"
    },
    "tags": []
   },
   "outputs": [],
   "source": [
    "# import all the necessary libraries\n",
    "import pandas as pd\n",
    "import numpy as np\n",
    "import seaborn as sns \n",
    "import matplotlib.pyplot as plt\n",
    "from sklearn.model_selection import train_test_split, GridSearchCV\n",
    "from sklearn.preprocessing import MinMaxScaler\n",
    "from sklearn.ensemble import RandomForestClassifier,GradientBoostingClassifier\n",
    "from sklearn.metrics import accuracy_score,precision_score,recall_score,f1_score,ConfusionMatrixDisplay,classification_report\n",
    "\n",
    "\n",
    "import warnings \n",
    "warnings.filterwarnings(\"ignore\")"
   ]
  },
  {
   "cell_type": "code",
   "execution_count": null,
   "id": "924e57c5",
   "metadata": {
    "execution": {
     "iopub.execute_input": "2023-09-10T03:02:53.098441Z",
     "iopub.status.busy": "2023-09-10T03:02:53.097898Z",
     "iopub.status.idle": "2023-09-10T03:02:53.176519Z",
     "shell.execute_reply": "2023-09-10T03:02:53.175719Z"
    },
    "papermill": {
     "duration": 0.094078,
     "end_time": "2023-09-10T03:02:53.178913",
     "exception": false,
     "start_time": "2023-09-10T03:02:53.084835",
     "status": "completed"
    },
    "tags": []
   },
   "outputs": [],
   "source": [
    "# Read the dataset\n",
    "dataframe=pd.read_csv(\"./water_potability.csv\")\n",
    "dataframe.head(10)"
   ]
  },
  {
   "cell_type": "code",
   "execution_count": null,
   "id": "efb2fe34",
   "metadata": {
    "execution": {
     "iopub.execute_input": "2023-09-10T03:02:53.204669Z",
     "iopub.status.busy": "2023-09-10T03:02:53.204097Z",
     "iopub.status.idle": "2023-09-10T03:02:53.209533Z",
     "shell.execute_reply": "2023-09-10T03:02:53.208061Z"
    },
    "papermill": {
     "duration": 0.021099,
     "end_time": "2023-09-10T03:02:53.212022",
     "exception": false,
     "start_time": "2023-09-10T03:02:53.190923",
     "status": "completed"
    },
    "tags": []
   },
   "outputs": [],
   "source": [
    "# check the shape of the dataset\n",
    "dataframe.shape"
   ]
  },
  {
   "cell_type": "code",
   "execution_count": null,
   "id": "f3bf58db",
   "metadata": {
    "execution": {
     "iopub.execute_input": "2023-09-10T03:02:53.236583Z",
     "iopub.status.busy": "2023-09-10T03:02:53.235981Z",
     "iopub.status.idle": "2023-09-10T03:02:53.247344Z",
     "shell.execute_reply": "2023-09-10T03:02:53.246408Z"
    },
    "papermill": {
     "duration": 0.026008,
     "end_time": "2023-09-10T03:02:53.249253",
     "exception": false,
     "start_time": "2023-09-10T03:02:53.223245",
     "status": "completed"
    },
    "tags": []
   },
   "outputs": [],
   "source": [
    "# To Check Is there any null values in the dataset\n",
    "dataframe.isnull().sum()"
   ]
  },
  {
   "cell_type": "markdown",
   "id": "47029e70",
   "metadata": {
    "papermill": {
     "duration": 0.011021,
     "end_time": "2023-09-10T03:02:53.271859",
     "exception": false,
     "start_time": "2023-09-10T03:02:53.260838",
     "status": "completed"
    },
    "tags": []
   },
   "source": [
    "> Here we can see that there are lot of missing values in the dataset pertaining to the columns ph, sulphate and Trihalomethanes."
   ]
  },
  {
   "cell_type": "code",
   "execution_count": null,
   "id": "2e957d24",
   "metadata": {
    "execution": {
     "iopub.execute_input": "2023-09-10T03:02:53.298308Z",
     "iopub.status.busy": "2023-09-10T03:02:53.297587Z",
     "iopub.status.idle": "2023-09-10T03:02:53.319045Z",
     "shell.execute_reply": "2023-09-10T03:02:53.317343Z"
    },
    "papermill": {
     "duration": 0.03825,
     "end_time": "2023-09-10T03:02:53.322142",
     "exception": false,
     "start_time": "2023-09-10T03:02:53.283892",
     "status": "completed"
    },
    "tags": []
   },
   "outputs": [],
   "source": [
    "# To check Is there any duplicate value in the dataset\n",
    "dataframe.duplicated().sum()"
   ]
  },
  {
   "cell_type": "markdown",
   "id": "0d336a39",
   "metadata": {
    "papermill": {
     "duration": 0.011292,
     "end_time": "2023-09-10T03:02:53.345488",
     "exception": false,
     "start_time": "2023-09-10T03:02:53.334196",
     "status": "completed"
    },
    "tags": []
   },
   "source": [
    "> There is no duplicate value in the dataset"
   ]
  },
  {
   "cell_type": "code",
   "execution_count": null,
   "id": "18b72283",
   "metadata": {
    "execution": {
     "iopub.execute_input": "2023-09-10T03:02:53.373569Z",
     "iopub.status.busy": "2023-09-10T03:02:53.373189Z",
     "iopub.status.idle": "2023-09-10T03:02:53.414230Z",
     "shell.execute_reply": "2023-09-10T03:02:53.412450Z"
    },
    "papermill": {
     "duration": 0.060118,
     "end_time": "2023-09-10T03:02:53.416936",
     "exception": false,
     "start_time": "2023-09-10T03:02:53.356818",
     "status": "completed"
    },
    "tags": []
   },
   "outputs": [],
   "source": [
    "# Lets describe the dataset\n",
    "dataframe.describe()"
   ]
  },
  {
   "cell_type": "code",
   "execution_count": null,
   "id": "469251b0",
   "metadata": {
    "execution": {
     "iopub.execute_input": "2023-09-10T03:02:53.503758Z",
     "iopub.status.busy": "2023-09-10T03:02:53.503396Z",
     "iopub.status.idle": "2023-09-10T03:02:53.525616Z",
     "shell.execute_reply": "2023-09-10T03:02:53.524704Z"
    },
    "papermill": {
     "duration": 0.097798,
     "end_time": "2023-09-10T03:02:53.527916",
     "exception": false,
     "start_time": "2023-09-10T03:02:53.430118",
     "status": "completed"
    },
    "tags": []
   },
   "outputs": [],
   "source": [
    "# Lets make the correlation matrix\n",
    "dataframe.corr()"
   ]
  },
  {
   "cell_type": "markdown",
   "id": "6c7be4e4",
   "metadata": {
    "papermill": {
     "duration": 0.011515,
     "end_time": "2023-09-10T03:02:53.551460",
     "exception": false,
     "start_time": "2023-09-10T03:02:53.539945",
     "status": "completed"
    },
    "tags": []
   },
   "source": [
    "# Lets visualise the correlation matrix"
   ]
  },
  {
   "cell_type": "code",
   "execution_count": null,
   "id": "4be441b4",
   "metadata": {
    "execution": {
     "iopub.execute_input": "2023-09-10T03:02:53.577732Z",
     "iopub.status.busy": "2023-09-10T03:02:53.577386Z",
     "iopub.status.idle": "2023-09-10T03:02:54.038257Z",
     "shell.execute_reply": "2023-09-10T03:02:54.036808Z"
    },
    "papermill": {
     "duration": 0.477715,
     "end_time": "2023-09-10T03:02:54.040891",
     "exception": false,
     "start_time": "2023-09-10T03:02:53.563176",
     "status": "completed"
    },
    "tags": []
   },
   "outputs": [],
   "source": [
    "plt.figure(figsize=(7,5))\n",
    "sns.heatmap(dataframe.corr(), annot=True, cmap=\"Purples\", fmt=\".2f\")\n",
    "plt.show()"
   ]
  },
  {
   "cell_type": "markdown",
   "id": "d1e26dc0",
   "metadata": {
    "papermill": {
     "duration": 0.01336,
     "end_time": "2023-09-10T03:02:54.067811",
     "exception": false,
     "start_time": "2023-09-10T03:02:54.054451",
     "status": "completed"
    },
    "tags": []
   },
   "source": [
    "# Exploratory Data Analysis"
   ]
  },
  {
   "cell_type": "markdown",
   "id": "b1c48c13",
   "metadata": {
    "papermill": {
     "duration": 0.013168,
     "end_time": "2023-09-10T03:02:54.094251",
     "exception": false,
     "start_time": "2023-09-10T03:02:54.081083",
     "status": "completed"
    },
    "tags": []
   },
   "source": [
    "> # Univariate Analysis"
   ]
  },
  {
   "cell_type": "code",
   "execution_count": null,
   "id": "26df7d0d",
   "metadata": {
    "execution": {
     "iopub.execute_input": "2023-09-10T03:02:54.123977Z",
     "iopub.status.busy": "2023-09-10T03:02:54.123415Z",
     "iopub.status.idle": "2023-09-10T03:02:54.259106Z",
     "shell.execute_reply": "2023-09-10T03:02:54.258391Z"
    },
    "papermill": {
     "duration": 0.152762,
     "end_time": "2023-09-10T03:02:54.260908",
     "exception": false,
     "start_time": "2023-09-10T03:02:54.108146",
     "status": "completed"
    },
    "tags": []
   },
   "outputs": [],
   "source": [
    "# Lets visualise the data distribution of  target variable\n",
    "plt.figure(figsize=(5,5))\n",
    "sns.countplot(data=dataframe, x=dataframe[\"Potability\"], color=\"red\")\n",
    "plt.show()"
   ]
  },
  {
   "cell_type": "code",
   "execution_count": null,
   "id": "aed0986c",
   "metadata": {
    "execution": {
     "iopub.execute_input": "2023-09-10T03:02:54.294244Z",
     "iopub.status.busy": "2023-09-10T03:02:54.293703Z",
     "iopub.status.idle": "2023-09-10T03:02:57.573815Z",
     "shell.execute_reply": "2023-09-10T03:02:57.572375Z"
    },
    "papermill": {
     "duration": 3.298392,
     "end_time": "2023-09-10T03:02:57.576273",
     "exception": false,
     "start_time": "2023-09-10T03:02:54.277881",
     "status": "completed"
    },
    "tags": []
   },
   "outputs": [],
   "source": [
    "# Lets visualise the distribution of the numerical value with respect to Potability(target variable)\n",
    "columns=dataframe.select_dtypes(exclude=\"object\").columns\n",
    "for i in range(len(columns)-1):\n",
    "    plt.figure(figsize=(8,5))\n",
    "    sns.histplot(data=dataframe, x=dataframe[columns[i]], hue=\"Potability\", kde=True, color=\"red\", multiple=\"stack\", bins=20)\n",
    "    plt.title(f\"{columns[i]} vs Potability\")\n",
    "    plt.show()"
   ]
  },
  {
   "cell_type": "markdown",
   "id": "62212105",
   "metadata": {
    "papermill": {
     "duration": 0.01898,
     "end_time": "2023-09-10T03:02:57.614448",
     "exception": false,
     "start_time": "2023-09-10T03:02:57.595468",
     "status": "completed"
    },
    "tags": []
   },
   "source": [
    "> # Bivariate Analysis"
   ]
  },
  {
   "cell_type": "code",
   "execution_count": null,
   "id": "528d3f7f",
   "metadata": {
    "execution": {
     "iopub.execute_input": "2023-09-10T03:02:57.654745Z",
     "iopub.status.busy": "2023-09-10T03:02:57.654392Z",
     "iopub.status.idle": "2023-09-10T03:02:59.270799Z",
     "shell.execute_reply": "2023-09-10T03:02:59.269331Z"
    },
    "papermill": {
     "duration": 1.639481,
     "end_time": "2023-09-10T03:02:59.273752",
     "exception": false,
     "start_time": "2023-09-10T03:02:57.634271",
     "status": "completed"
    },
    "tags": []
   },
   "outputs": [],
   "source": [
    "# To check the outliers in the dataset with the help of Boxplot\n",
    "colors=[\"red\",\"blue\",\"green\",\"grey\",\"purple\",\"violet\",\"brown\",\"black\", \"orange\"]\n",
    "for i in  range(len(columns)-1):\n",
    "    plt.figure(figsize=(7,5))\n",
    "    sns.boxplot(data=dataframe, x=dataframe[\"Potability\"], y=dataframe[columns[i]], color=colors[i])\n",
    "    plt.title(f\"{columns[i]}  vs Potability\")\n",
    "    plt.show()\n"
   ]
  },
  {
   "cell_type": "markdown",
   "id": "99a3bed9",
   "metadata": {
    "papermill": {
     "duration": 0.02246,
     "end_time": "2023-09-10T03:02:59.319963",
     "exception": false,
     "start_time": "2023-09-10T03:02:59.297503",
     "status": "completed"
    },
    "tags": []
   },
   "source": [
    "# Split the dataset into Train and Test Split"
   ]
  },
  {
   "cell_type": "code",
   "execution_count": null,
   "id": "3455f1a7",
   "metadata": {
    "execution": {
     "iopub.execute_input": "2023-09-10T03:02:59.367953Z",
     "iopub.status.busy": "2023-09-10T03:02:59.367569Z",
     "iopub.status.idle": "2023-09-10T03:02:59.373676Z",
     "shell.execute_reply": "2023-09-10T03:02:59.372574Z"
    },
    "papermill": {
     "duration": 0.033198,
     "end_time": "2023-09-10T03:02:59.376133",
     "exception": false,
     "start_time": "2023-09-10T03:02:59.342935",
     "status": "completed"
    },
    "tags": []
   },
   "outputs": [],
   "source": [
    "# Lets Split the dataset first\n",
    "def train_test_split_data(dataframe, target, random_state, test_size):\n",
    "    \n",
    "    x_train,y_train,x_test,y_test= train_test_split(dataframe.drop([target], axis=1),\n",
    "                                                    dataframe[target],\n",
    "                                                    test_size=test_size,\n",
    "                                                    random_state=random_state,\n",
    "                                                    stratify=dataframe[target])\n",
    "                                     \n",
    "    return x_train, x_test, y_train,y_test"
   ]
  },
  {
   "cell_type": "code",
   "execution_count": null,
   "id": "86450833",
   "metadata": {
    "execution": {
     "iopub.execute_input": "2023-09-10T03:02:59.426513Z",
     "iopub.status.busy": "2023-09-10T03:02:59.425991Z",
     "iopub.status.idle": "2023-09-10T03:02:59.433958Z",
     "shell.execute_reply": "2023-09-10T03:02:59.432959Z"
    },
    "papermill": {
     "duration": 0.036809,
     "end_time": "2023-09-10T03:02:59.436215",
     "exception": false,
     "start_time": "2023-09-10T03:02:59.399406",
     "status": "completed"
    },
    "tags": []
   },
   "outputs": [],
   "source": [
    "x_train, y_train, x_test, y_test= train_test_split_data(dataframe,target=\"Potability\", random_state=42, test_size=0.3)"
   ]
  },
  {
   "cell_type": "code",
   "execution_count": null,
   "id": "6fc1fe9f",
   "metadata": {
    "execution": {
     "iopub.execute_input": "2023-09-10T03:02:59.484161Z",
     "iopub.status.busy": "2023-09-10T03:02:59.483777Z",
     "iopub.status.idle": "2023-09-10T03:02:59.491118Z",
     "shell.execute_reply": "2023-09-10T03:02:59.489845Z"
    },
    "papermill": {
     "duration": 0.033001,
     "end_time": "2023-09-10T03:02:59.492945",
     "exception": false,
     "start_time": "2023-09-10T03:02:59.459944",
     "status": "completed"
    },
    "tags": []
   },
   "outputs": [],
   "source": [
    "x_train.shape, y_train.shape, x_test.shape, y_test.shape"
   ]
  },
  {
   "cell_type": "markdown",
   "id": "e103d249",
   "metadata": {
    "papermill": {
     "duration": 0.022375,
     "end_time": "2023-09-10T03:02:59.538818",
     "exception": false,
     "start_time": "2023-09-10T03:02:59.516443",
     "status": "completed"
    },
    "tags": []
   },
   "source": [
    "# First delete the outliers from the dataset and then handle the missing values"
   ]
  },
  {
   "cell_type": "code",
   "execution_count": null,
   "id": "3b9825fc",
   "metadata": {
    "execution": {
     "iopub.execute_input": "2023-09-10T03:02:59.586685Z",
     "iopub.status.busy": "2023-09-10T03:02:59.585459Z",
     "iopub.status.idle": "2023-09-10T03:02:59.593515Z",
     "shell.execute_reply": "2023-09-10T03:02:59.592431Z"
    },
    "papermill": {
     "duration": 0.034099,
     "end_time": "2023-09-10T03:02:59.595479",
     "exception": false,
     "start_time": "2023-09-10T03:02:59.561380",
     "status": "completed"
    },
    "tags": []
   },
   "outputs": [],
   "source": [
    "def Percentile_Capping(columns, x_train, y_train, a, b):\n",
    "    \n",
    "    outliers=[]\n",
    "    for col in columns:\n",
    "        q1=np.percentile(x_train[col], a)\n",
    "        q2=np.percentile(x_train[col], b)\n",
    "    \n",
    "    for i in range(len(x_train)):\n",
    "        if x_train[col].iloc[i]>q2 or  x_train[col].iloc[i]<q1:\n",
    "            outliers.append(i)\n",
    "            \n",
    "    outliers=set(outliers)    # to remove the duplicate values in the dataset\n",
    "    outliers=list(outliers)\n",
    "            \n",
    "            \n",
    "    x_train.drop(x_train.index[outliers], inplace=True)   # remove the outliers from the trainin data\n",
    "    y_train.drop(y_train.index[outliers], inplace=True)\n",
    "            \n",
    "    ratio= round(len(outliers)/len(x_train)*100,2)\n",
    "            \n",
    "            \n",
    "    return x_train, y_train, ratio"
   ]
  },
  {
   "cell_type": "code",
   "execution_count": null,
   "id": "1033bfa4",
   "metadata": {
    "execution": {
     "iopub.execute_input": "2023-09-10T03:02:59.643145Z",
     "iopub.status.busy": "2023-09-10T03:02:59.641695Z",
     "iopub.status.idle": "2023-09-10T03:02:59.700498Z",
     "shell.execute_reply": "2023-09-10T03:02:59.698702Z"
    },
    "papermill": {
     "duration": 0.084648,
     "end_time": "2023-09-10T03:02:59.702920",
     "exception": false,
     "start_time": "2023-09-10T03:02:59.618272",
     "status": "completed"
    },
    "tags": []
   },
   "outputs": [],
   "source": [
    "x_train, y_train, ratio= Percentile_Capping(x_train.select_dtypes(exclude=\"object\").columns, x_train, y_train, a=2, b=98)"
   ]
  },
  {
   "cell_type": "code",
   "execution_count": null,
   "id": "7f805284",
   "metadata": {
    "execution": {
     "iopub.execute_input": "2023-09-10T03:02:59.750216Z",
     "iopub.status.busy": "2023-09-10T03:02:59.749516Z",
     "iopub.status.idle": "2023-09-10T03:02:59.755894Z",
     "shell.execute_reply": "2023-09-10T03:02:59.754920Z"
    },
    "papermill": {
     "duration": 0.031642,
     "end_time": "2023-09-10T03:02:59.757748",
     "exception": false,
     "start_time": "2023-09-10T03:02:59.726106",
     "status": "completed"
    },
    "tags": []
   },
   "outputs": [],
   "source": [
    "x_train.shape, y_train.shape"
   ]
  },
  {
   "cell_type": "code",
   "execution_count": null,
   "id": "3d70e1dd",
   "metadata": {
    "execution": {
     "iopub.execute_input": "2023-09-10T03:02:59.806225Z",
     "iopub.status.busy": "2023-09-10T03:02:59.805142Z",
     "iopub.status.idle": "2023-09-10T03:02:59.810268Z",
     "shell.execute_reply": "2023-09-10T03:02:59.809586Z"
    },
    "papermill": {
     "duration": 0.031659,
     "end_time": "2023-09-10T03:02:59.812113",
     "exception": false,
     "start_time": "2023-09-10T03:02:59.780454",
     "status": "completed"
    },
    "tags": []
   },
   "outputs": [],
   "source": [
    "print(f\"Ratio of outliers in the dataset:{ratio}\")"
   ]
  },
  {
   "cell_type": "markdown",
   "id": "0c9e2a77",
   "metadata": {
    "papermill": {
     "duration": 0.023418,
     "end_time": "2023-09-10T03:02:59.861475",
     "exception": false,
     "start_time": "2023-09-10T03:02:59.838057",
     "status": "completed"
    },
    "tags": []
   },
   "source": [
    "# Lets handle the missing value in the Training Data"
   ]
  },
  {
   "cell_type": "code",
   "execution_count": null,
   "id": "ab21a0db",
   "metadata": {
    "execution": {
     "iopub.execute_input": "2023-09-10T03:02:59.911239Z",
     "iopub.status.busy": "2023-09-10T03:02:59.910620Z",
     "iopub.status.idle": "2023-09-10T03:02:59.919500Z",
     "shell.execute_reply": "2023-09-10T03:02:59.918346Z"
    },
    "papermill": {
     "duration": 0.036907,
     "end_time": "2023-09-10T03:02:59.921635",
     "exception": false,
     "start_time": "2023-09-10T03:02:59.884728",
     "status": "completed"
    },
    "tags": []
   },
   "outputs": [],
   "source": [
    "x_train.isna().sum()"
   ]
  },
  {
   "cell_type": "code",
   "execution_count": null,
   "id": "430b3ae0",
   "metadata": {
    "execution": {
     "iopub.execute_input": "2023-09-10T03:02:59.969283Z",
     "iopub.status.busy": "2023-09-10T03:02:59.968688Z",
     "iopub.status.idle": "2023-09-10T03:02:59.975020Z",
     "shell.execute_reply": "2023-09-10T03:02:59.973997Z"
    },
    "papermill": {
     "duration": 0.033012,
     "end_time": "2023-09-10T03:02:59.977300",
     "exception": false,
     "start_time": "2023-09-10T03:02:59.944288",
     "status": "completed"
    },
    "tags": []
   },
   "outputs": [],
   "source": [
    "# genereate the random values and then fill the missing values in Ph columns\n",
    "lower_limit=0\n",
    "upper_limit=14\n",
    "missing_values=330\n",
    "\n",
    "random_numbers= np.random.uniform(lower_limit, upper_limit, missing_values)\n",
    "x_train[\"ph\"]= x_train[\"ph\"].fillna(pd.Series(random_numbers, index=x_train.index[x_train[\"ph\"].isna()]))"
   ]
  },
  {
   "cell_type": "code",
   "execution_count": null,
   "id": "019fff13",
   "metadata": {
    "execution": {
     "iopub.execute_input": "2023-09-10T03:03:00.025544Z",
     "iopub.status.busy": "2023-09-10T03:03:00.024974Z",
     "iopub.status.idle": "2023-09-10T03:03:00.031268Z",
     "shell.execute_reply": "2023-09-10T03:03:00.030276Z"
    },
    "papermill": {
     "duration": 0.033136,
     "end_time": "2023-09-10T03:03:00.033320",
     "exception": false,
     "start_time": "2023-09-10T03:03:00.000184",
     "status": "completed"
    },
    "tags": []
   },
   "outputs": [],
   "source": [
    "# genereate the random values and then fill the missing values in sulfate columns\n",
    "lower_limit=129\n",
    "upper_limit=481\n",
    "missing_values=527\n",
    "\n",
    "random_numbers= np.random.uniform(lower_limit, upper_limit, missing_values)\n",
    "x_train[\"Sulfate\"]= x_train[\"Sulfate\"].fillna(pd.Series(random_numbers, index=x_train.index[x_train[\"Sulfate\"].isna()]))"
   ]
  },
  {
   "cell_type": "code",
   "execution_count": null,
   "id": "9e191ba7",
   "metadata": {
    "execution": {
     "iopub.execute_input": "2023-09-10T03:03:00.080643Z",
     "iopub.status.busy": "2023-09-10T03:03:00.080116Z",
     "iopub.status.idle": "2023-09-10T03:03:00.086559Z",
     "shell.execute_reply": "2023-09-10T03:03:00.085546Z"
    },
    "papermill": {
     "duration": 0.033014,
     "end_time": "2023-09-10T03:03:00.089073",
     "exception": false,
     "start_time": "2023-09-10T03:03:00.056059",
     "status": "completed"
    },
    "tags": []
   },
   "outputs": [],
   "source": [
    "# genereate the random values and then fill the missing values in Trihalomethanes columns\n",
    "lower_limit=0.7\n",
    "upper_limit=124\n",
    "missing_values=110\n",
    "\n",
    "random_numbers= np.random.uniform(lower_limit, upper_limit, missing_values)\n",
    "x_train[\"Trihalomethanes\"]= x_train[\"Trihalomethanes\"].fillna(pd.Series(random_numbers, index=x_train.index[x_train[\"Trihalomethanes\"].isna()]))"
   ]
  },
  {
   "cell_type": "markdown",
   "id": "d7ba786b",
   "metadata": {
    "papermill": {
     "duration": 0.02239,
     "end_time": "2023-09-10T03:03:00.134866",
     "exception": false,
     "start_time": "2023-09-10T03:03:00.112476",
     "status": "completed"
    },
    "tags": []
   },
   "source": [
    "# Lets handle the missing value in the Testing Data\n"
   ]
  },
  {
   "cell_type": "code",
   "execution_count": null,
   "id": "864045ca",
   "metadata": {
    "execution": {
     "iopub.execute_input": "2023-09-10T03:03:00.182494Z",
     "iopub.status.busy": "2023-09-10T03:03:00.181888Z",
     "iopub.status.idle": "2023-09-10T03:03:00.188955Z",
     "shell.execute_reply": "2023-09-10T03:03:00.188114Z"
    },
    "papermill": {
     "duration": 0.033057,
     "end_time": "2023-09-10T03:03:00.190637",
     "exception": false,
     "start_time": "2023-09-10T03:03:00.157580",
     "status": "completed"
    },
    "tags": []
   },
   "outputs": [],
   "source": [
    "x_test.isna().sum()"
   ]
  },
  {
   "cell_type": "code",
   "execution_count": null,
   "id": "06387555",
   "metadata": {
    "execution": {
     "iopub.execute_input": "2023-09-10T03:03:00.237961Z",
     "iopub.status.busy": "2023-09-10T03:03:00.237219Z",
     "iopub.status.idle": "2023-09-10T03:03:00.243476Z",
     "shell.execute_reply": "2023-09-10T03:03:00.242875Z"
    },
    "papermill": {
     "duration": 0.032373,
     "end_time": "2023-09-10T03:03:00.245718",
     "exception": false,
     "start_time": "2023-09-10T03:03:00.213345",
     "status": "completed"
    },
    "tags": []
   },
   "outputs": [],
   "source": [
    "lower_limit=0\n",
    "upper_limit=14\n",
    "missing_values=147\n",
    "\n",
    "random_numbers= np.random.uniform(lower_limit, upper_limit, missing_values)\n",
    "x_test[\"ph\"]= x_test[\"ph\"].fillna(pd.Series(random_numbers, index=x_test.index[x_test[\"ph\"].isna()]))"
   ]
  },
  {
   "cell_type": "code",
   "execution_count": null,
   "id": "57df65fc",
   "metadata": {
    "execution": {
     "iopub.execute_input": "2023-09-10T03:03:00.294835Z",
     "iopub.status.busy": "2023-09-10T03:03:00.294289Z",
     "iopub.status.idle": "2023-09-10T03:03:00.299792Z",
     "shell.execute_reply": "2023-09-10T03:03:00.299105Z"
    },
    "papermill": {
     "duration": 0.032145,
     "end_time": "2023-09-10T03:03:00.301688",
     "exception": false,
     "start_time": "2023-09-10T03:03:00.269543",
     "status": "completed"
    },
    "tags": []
   },
   "outputs": [],
   "source": [
    "lower_limit=129\n",
    "upper_limit=481\n",
    "missing_values=232\n",
    "\n",
    "random_numbers= np.random.uniform(lower_limit, upper_limit, missing_values)\n",
    "x_test[\"Sulfate\"]= x_test[\"Sulfate\"].fillna(pd.Series(random_numbers, index=x_test.index[x_test[\"Sulfate\"].isna()]))"
   ]
  },
  {
   "cell_type": "code",
   "execution_count": null,
   "id": "b5c2a59d",
   "metadata": {
    "execution": {
     "iopub.execute_input": "2023-09-10T03:03:00.352419Z",
     "iopub.status.busy": "2023-09-10T03:03:00.351860Z",
     "iopub.status.idle": "2023-09-10T03:03:00.358753Z",
     "shell.execute_reply": "2023-09-10T03:03:00.357309Z"
    },
    "papermill": {
     "duration": 0.035849,
     "end_time": "2023-09-10T03:03:00.361094",
     "exception": false,
     "start_time": "2023-09-10T03:03:00.325245",
     "status": "completed"
    },
    "tags": []
   },
   "outputs": [],
   "source": [
    "lower_limit=0.7\n",
    "upper_limit=124\n",
    "missing_values=46\n",
    "\n",
    "random_numbers= np.random.uniform(lower_limit, upper_limit, missing_values)\n",
    "x_test[\"Trihalomethanes\"]= x_test[\"Trihalomethanes\"].fillna(pd.Series(random_numbers, index=x_test.index[x_test[\"Trihalomethanes\"].isna()]))"
   ]
  },
  {
   "cell_type": "code",
   "execution_count": null,
   "id": "fa40870e",
   "metadata": {
    "execution": {
     "iopub.execute_input": "2023-09-10T03:03:00.410409Z",
     "iopub.status.busy": "2023-09-10T03:03:00.410023Z",
     "iopub.status.idle": "2023-09-10T03:03:00.426602Z",
     "shell.execute_reply": "2023-09-10T03:03:00.425537Z"
    },
    "papermill": {
     "duration": 0.043867,
     "end_time": "2023-09-10T03:03:00.428373",
     "exception": false,
     "start_time": "2023-09-10T03:03:00.384506",
     "status": "completed"
    },
    "tags": []
   },
   "outputs": [],
   "source": [
    "x_train.head()"
   ]
  },
  {
   "cell_type": "code",
   "execution_count": null,
   "id": "46914555",
   "metadata": {
    "execution": {
     "iopub.execute_input": "2023-09-10T03:03:00.478330Z",
     "iopub.status.busy": "2023-09-10T03:03:00.477920Z",
     "iopub.status.idle": "2023-09-10T03:03:00.492319Z",
     "shell.execute_reply": "2023-09-10T03:03:00.491334Z"
    },
    "papermill": {
     "duration": 0.041208,
     "end_time": "2023-09-10T03:03:00.494557",
     "exception": false,
     "start_time": "2023-09-10T03:03:00.453349",
     "status": "completed"
    },
    "tags": []
   },
   "outputs": [],
   "source": [
    "x_test.head()"
   ]
  },
  {
   "cell_type": "markdown",
   "id": "a09208f8",
   "metadata": {
    "papermill": {
     "duration": 0.022796,
     "end_time": "2023-09-10T03:03:00.541095",
     "exception": false,
     "start_time": "2023-09-10T03:03:00.518299",
     "status": "completed"
    },
    "tags": []
   },
   "source": [
    "# Data Preprocessing"
   ]
  },
  {
   "cell_type": "code",
   "execution_count": null,
   "id": "66ccbcb2",
   "metadata": {
    "execution": {
     "iopub.execute_input": "2023-09-10T03:03:00.589292Z",
     "iopub.status.busy": "2023-09-10T03:03:00.588980Z",
     "iopub.status.idle": "2023-09-10T03:03:00.602612Z",
     "shell.execute_reply": "2023-09-10T03:03:00.601415Z"
    },
    "papermill": {
     "duration": 0.040502,
     "end_time": "2023-09-10T03:03:00.605001",
     "exception": false,
     "start_time": "2023-09-10T03:03:00.564499",
     "status": "completed"
    },
    "tags": []
   },
   "outputs": [],
   "source": [
    "columns=x_train.select_dtypes(exclude=\"object\").columns\n",
    "scaler= MinMaxScaler()\n",
    "x_train[columns]= scaler.fit_transform(x_train[columns])\n",
    "x_test[columns]= scaler.transform(x_test[columns])"
   ]
  },
  {
   "cell_type": "code",
   "execution_count": null,
   "id": "413aa26e",
   "metadata": {
    "execution": {
     "iopub.execute_input": "2023-09-10T03:03:00.653690Z",
     "iopub.status.busy": "2023-09-10T03:03:00.652783Z",
     "iopub.status.idle": "2023-09-10T03:03:00.666165Z",
     "shell.execute_reply": "2023-09-10T03:03:00.665274Z"
    },
    "papermill": {
     "duration": 0.040079,
     "end_time": "2023-09-10T03:03:00.668487",
     "exception": false,
     "start_time": "2023-09-10T03:03:00.628408",
     "status": "completed"
    },
    "tags": []
   },
   "outputs": [],
   "source": [
    "x_train.head()"
   ]
  },
  {
   "cell_type": "code",
   "execution_count": null,
   "id": "9f060960",
   "metadata": {
    "execution": {
     "iopub.execute_input": "2023-09-10T03:03:00.718894Z",
     "iopub.status.busy": "2023-09-10T03:03:00.718566Z",
     "iopub.status.idle": "2023-09-10T03:03:00.733539Z",
     "shell.execute_reply": "2023-09-10T03:03:00.732210Z"
    },
    "papermill": {
     "duration": 0.042373,
     "end_time": "2023-09-10T03:03:00.735624",
     "exception": false,
     "start_time": "2023-09-10T03:03:00.693251",
     "status": "completed"
    },
    "tags": []
   },
   "outputs": [],
   "source": [
    "x_test.head()"
   ]
  },
  {
   "cell_type": "markdown",
   "id": "278be496",
   "metadata": {
    "papermill": {
     "duration": 0.023418,
     "end_time": "2023-09-10T03:03:00.783563",
     "exception": false,
     "start_time": "2023-09-10T03:03:00.760145",
     "status": "completed"
    },
    "tags": []
   },
   "source": [
    "# Lets do the Modelling\n",
    "> # Ensemble Learning\n",
    "> # RandomForestClassifier: Finding best parameters using GridSearchCV"
   ]
  },
  {
   "cell_type": "code",
   "execution_count": 32,
   "id": "3b15fb93",
   "metadata": {
    "execution": {
     "iopub.execute_input": "2023-09-10T03:03:00.833617Z",
     "iopub.status.busy": "2023-09-10T03:03:00.833283Z",
     "iopub.status.idle": "2023-09-10T03:09:30.291781Z",
     "shell.execute_reply": "2023-09-10T03:09:30.290880Z"
    },
    "papermill": {
     "duration": 389.503753,
     "end_time": "2023-09-10T03:09:30.311322",
     "exception": false,
     "start_time": "2023-09-10T03:03:00.807569",
     "status": "completed"
    },
    "tags": []
   },
   "outputs": [
    {
     "ename": "KeyboardInterrupt",
     "evalue": "",
     "output_type": "error",
     "traceback": [
      "\u001b[1;31m---------------------------------------------------------------------------\u001b[0m",
      "\u001b[1;31mKeyboardInterrupt\u001b[0m                         Traceback (most recent call last)",
      "Cell \u001b[1;32mIn[32], line 9\u001b[0m\n\u001b[0;32m      2\u001b[0m hyper_params\u001b[38;5;241m=\u001b[39m{\u001b[38;5;124m\"\u001b[39m\u001b[38;5;124mmax_features\u001b[39m\u001b[38;5;124m\"\u001b[39m: [\u001b[38;5;241m1\u001b[39m,\u001b[38;5;241m3\u001b[39m,\u001b[38;5;241m10\u001b[39m],\n\u001b[0;32m      3\u001b[0m               \u001b[38;5;124m\"\u001b[39m\u001b[38;5;124mmin_samples_split\u001b[39m\u001b[38;5;124m\"\u001b[39m:[\u001b[38;5;241m2\u001b[39m,\u001b[38;5;241m3\u001b[39m,\u001b[38;5;241m10\u001b[39m],\n\u001b[0;32m      4\u001b[0m               \u001b[38;5;124m\"\u001b[39m\u001b[38;5;124mmin_samples_leaf\u001b[39m\u001b[38;5;124m\"\u001b[39m:[\u001b[38;5;241m1\u001b[39m,\u001b[38;5;241m3\u001b[39m,\u001b[38;5;241m10\u001b[39m],\n\u001b[0;32m      5\u001b[0m               \u001b[38;5;124m\"\u001b[39m\u001b[38;5;124mn_estimators\u001b[39m\u001b[38;5;124m\"\u001b[39m:[\u001b[38;5;241m100\u001b[39m,\u001b[38;5;241m300\u001b[39m, \u001b[38;5;241m400\u001b[39m, \u001b[38;5;241m500\u001b[39m],\n\u001b[0;32m      6\u001b[0m               \u001b[38;5;124m\"\u001b[39m\u001b[38;5;124mcriterion\u001b[39m\u001b[38;5;124m\"\u001b[39m:[\u001b[38;5;124m\"\u001b[39m\u001b[38;5;124mgini\u001b[39m\u001b[38;5;124m\"\u001b[39m]}\n\u001b[0;32m      8\u001b[0m model\u001b[38;5;241m=\u001b[39mGridSearchCV(rf, hyper_params, cv\u001b[38;5;241m=\u001b[39m\u001b[38;5;241m5\u001b[39m, scoring\u001b[38;5;241m=\u001b[39m\u001b[38;5;124m\"\u001b[39m\u001b[38;5;124mf1_macro\u001b[39m\u001b[38;5;124m\"\u001b[39m, n_jobs\u001b[38;5;241m=\u001b[39m\u001b[38;5;241m-\u001b[39m\u001b[38;5;241m1\u001b[39m)\n\u001b[1;32m----> 9\u001b[0m \u001b[43mmodel\u001b[49m\u001b[38;5;241;43m.\u001b[39;49m\u001b[43mfit\u001b[49m\u001b[43m(\u001b[49m\u001b[43mx_train\u001b[49m\u001b[43m,\u001b[49m\u001b[43my_train\u001b[49m\u001b[43m)\u001b[49m\n\u001b[0;32m     10\u001b[0m y_pred\u001b[38;5;241m=\u001b[39m model\u001b[38;5;241m.\u001b[39mpredict(x_test)\n\u001b[0;32m     11\u001b[0m \u001b[38;5;28mprint\u001b[39m(model\u001b[38;5;241m.\u001b[39mbest_estimator_)\n",
      "File \u001b[1;32mD:\\anaconda3\\envs\\python39\\lib\\site-packages\\sklearn\\base.py:1151\u001b[0m, in \u001b[0;36m_fit_context.<locals>.decorator.<locals>.wrapper\u001b[1;34m(estimator, *args, **kwargs)\u001b[0m\n\u001b[0;32m   1144\u001b[0m     estimator\u001b[38;5;241m.\u001b[39m_validate_params()\n\u001b[0;32m   1146\u001b[0m \u001b[38;5;28;01mwith\u001b[39;00m config_context(\n\u001b[0;32m   1147\u001b[0m     skip_parameter_validation\u001b[38;5;241m=\u001b[39m(\n\u001b[0;32m   1148\u001b[0m         prefer_skip_nested_validation \u001b[38;5;129;01mor\u001b[39;00m global_skip_validation\n\u001b[0;32m   1149\u001b[0m     )\n\u001b[0;32m   1150\u001b[0m ):\n\u001b[1;32m-> 1151\u001b[0m     \u001b[38;5;28;01mreturn\u001b[39;00m fit_method(estimator, \u001b[38;5;241m*\u001b[39margs, \u001b[38;5;241m*\u001b[39m\u001b[38;5;241m*\u001b[39mkwargs)\n",
      "File \u001b[1;32mD:\\anaconda3\\envs\\python39\\lib\\site-packages\\sklearn\\model_selection\\_search.py:898\u001b[0m, in \u001b[0;36mBaseSearchCV.fit\u001b[1;34m(self, X, y, groups, **fit_params)\u001b[0m\n\u001b[0;32m    892\u001b[0m     results \u001b[38;5;241m=\u001b[39m \u001b[38;5;28mself\u001b[39m\u001b[38;5;241m.\u001b[39m_format_results(\n\u001b[0;32m    893\u001b[0m         all_candidate_params, n_splits, all_out, all_more_results\n\u001b[0;32m    894\u001b[0m     )\n\u001b[0;32m    896\u001b[0m     \u001b[38;5;28;01mreturn\u001b[39;00m results\n\u001b[1;32m--> 898\u001b[0m \u001b[38;5;28;43mself\u001b[39;49m\u001b[38;5;241;43m.\u001b[39;49m\u001b[43m_run_search\u001b[49m\u001b[43m(\u001b[49m\u001b[43mevaluate_candidates\u001b[49m\u001b[43m)\u001b[49m\n\u001b[0;32m    900\u001b[0m \u001b[38;5;66;03m# multimetric is determined here because in the case of a callable\u001b[39;00m\n\u001b[0;32m    901\u001b[0m \u001b[38;5;66;03m# self.scoring the return type is only known after calling\u001b[39;00m\n\u001b[0;32m    902\u001b[0m first_test_score \u001b[38;5;241m=\u001b[39m all_out[\u001b[38;5;241m0\u001b[39m][\u001b[38;5;124m\"\u001b[39m\u001b[38;5;124mtest_scores\u001b[39m\u001b[38;5;124m\"\u001b[39m]\n",
      "File \u001b[1;32mD:\\anaconda3\\envs\\python39\\lib\\site-packages\\sklearn\\model_selection\\_search.py:1419\u001b[0m, in \u001b[0;36mGridSearchCV._run_search\u001b[1;34m(self, evaluate_candidates)\u001b[0m\n\u001b[0;32m   1417\u001b[0m \u001b[38;5;28;01mdef\u001b[39;00m \u001b[38;5;21m_run_search\u001b[39m(\u001b[38;5;28mself\u001b[39m, evaluate_candidates):\n\u001b[0;32m   1418\u001b[0m \u001b[38;5;250m    \u001b[39m\u001b[38;5;124;03m\"\"\"Search all candidates in param_grid\"\"\"\u001b[39;00m\n\u001b[1;32m-> 1419\u001b[0m     \u001b[43mevaluate_candidates\u001b[49m\u001b[43m(\u001b[49m\u001b[43mParameterGrid\u001b[49m\u001b[43m(\u001b[49m\u001b[38;5;28;43mself\u001b[39;49m\u001b[38;5;241;43m.\u001b[39;49m\u001b[43mparam_grid\u001b[49m\u001b[43m)\u001b[49m\u001b[43m)\u001b[49m\n",
      "File \u001b[1;32mD:\\anaconda3\\envs\\python39\\lib\\site-packages\\sklearn\\model_selection\\_search.py:845\u001b[0m, in \u001b[0;36mBaseSearchCV.fit.<locals>.evaluate_candidates\u001b[1;34m(candidate_params, cv, more_results)\u001b[0m\n\u001b[0;32m    837\u001b[0m \u001b[38;5;28;01mif\u001b[39;00m \u001b[38;5;28mself\u001b[39m\u001b[38;5;241m.\u001b[39mverbose \u001b[38;5;241m>\u001b[39m \u001b[38;5;241m0\u001b[39m:\n\u001b[0;32m    838\u001b[0m     \u001b[38;5;28mprint\u001b[39m(\n\u001b[0;32m    839\u001b[0m         \u001b[38;5;124m\"\u001b[39m\u001b[38;5;124mFitting \u001b[39m\u001b[38;5;132;01m{0}\u001b[39;00m\u001b[38;5;124m folds for each of \u001b[39m\u001b[38;5;132;01m{1}\u001b[39;00m\u001b[38;5;124m candidates,\u001b[39m\u001b[38;5;124m\"\u001b[39m\n\u001b[0;32m    840\u001b[0m         \u001b[38;5;124m\"\u001b[39m\u001b[38;5;124m totalling \u001b[39m\u001b[38;5;132;01m{2}\u001b[39;00m\u001b[38;5;124m fits\u001b[39m\u001b[38;5;124m\"\u001b[39m\u001b[38;5;241m.\u001b[39mformat(\n\u001b[0;32m    841\u001b[0m             n_splits, n_candidates, n_candidates \u001b[38;5;241m*\u001b[39m n_splits\n\u001b[0;32m    842\u001b[0m         )\n\u001b[0;32m    843\u001b[0m     )\n\u001b[1;32m--> 845\u001b[0m out \u001b[38;5;241m=\u001b[39m \u001b[43mparallel\u001b[49m\u001b[43m(\u001b[49m\n\u001b[0;32m    846\u001b[0m \u001b[43m    \u001b[49m\u001b[43mdelayed\u001b[49m\u001b[43m(\u001b[49m\u001b[43m_fit_and_score\u001b[49m\u001b[43m)\u001b[49m\u001b[43m(\u001b[49m\n\u001b[0;32m    847\u001b[0m \u001b[43m        \u001b[49m\u001b[43mclone\u001b[49m\u001b[43m(\u001b[49m\u001b[43mbase_estimator\u001b[49m\u001b[43m)\u001b[49m\u001b[43m,\u001b[49m\n\u001b[0;32m    848\u001b[0m \u001b[43m        \u001b[49m\u001b[43mX\u001b[49m\u001b[43m,\u001b[49m\n\u001b[0;32m    849\u001b[0m \u001b[43m        \u001b[49m\u001b[43my\u001b[49m\u001b[43m,\u001b[49m\n\u001b[0;32m    850\u001b[0m \u001b[43m        \u001b[49m\u001b[43mtrain\u001b[49m\u001b[38;5;241;43m=\u001b[39;49m\u001b[43mtrain\u001b[49m\u001b[43m,\u001b[49m\n\u001b[0;32m    851\u001b[0m \u001b[43m        \u001b[49m\u001b[43mtest\u001b[49m\u001b[38;5;241;43m=\u001b[39;49m\u001b[43mtest\u001b[49m\u001b[43m,\u001b[49m\n\u001b[0;32m    852\u001b[0m \u001b[43m        \u001b[49m\u001b[43mparameters\u001b[49m\u001b[38;5;241;43m=\u001b[39;49m\u001b[43mparameters\u001b[49m\u001b[43m,\u001b[49m\n\u001b[0;32m    853\u001b[0m \u001b[43m        \u001b[49m\u001b[43msplit_progress\u001b[49m\u001b[38;5;241;43m=\u001b[39;49m\u001b[43m(\u001b[49m\u001b[43msplit_idx\u001b[49m\u001b[43m,\u001b[49m\u001b[43m \u001b[49m\u001b[43mn_splits\u001b[49m\u001b[43m)\u001b[49m\u001b[43m,\u001b[49m\n\u001b[0;32m    854\u001b[0m \u001b[43m        \u001b[49m\u001b[43mcandidate_progress\u001b[49m\u001b[38;5;241;43m=\u001b[39;49m\u001b[43m(\u001b[49m\u001b[43mcand_idx\u001b[49m\u001b[43m,\u001b[49m\u001b[43m \u001b[49m\u001b[43mn_candidates\u001b[49m\u001b[43m)\u001b[49m\u001b[43m,\u001b[49m\n\u001b[0;32m    855\u001b[0m \u001b[43m        \u001b[49m\u001b[38;5;241;43m*\u001b[39;49m\u001b[38;5;241;43m*\u001b[39;49m\u001b[43mfit_and_score_kwargs\u001b[49m\u001b[43m,\u001b[49m\n\u001b[0;32m    856\u001b[0m \u001b[43m    \u001b[49m\u001b[43m)\u001b[49m\n\u001b[0;32m    857\u001b[0m \u001b[43m    \u001b[49m\u001b[38;5;28;43;01mfor\u001b[39;49;00m\u001b[43m \u001b[49m\u001b[43m(\u001b[49m\u001b[43mcand_idx\u001b[49m\u001b[43m,\u001b[49m\u001b[43m \u001b[49m\u001b[43mparameters\u001b[49m\u001b[43m)\u001b[49m\u001b[43m,\u001b[49m\u001b[43m \u001b[49m\u001b[43m(\u001b[49m\u001b[43msplit_idx\u001b[49m\u001b[43m,\u001b[49m\u001b[43m \u001b[49m\u001b[43m(\u001b[49m\u001b[43mtrain\u001b[49m\u001b[43m,\u001b[49m\u001b[43m \u001b[49m\u001b[43mtest\u001b[49m\u001b[43m)\u001b[49m\u001b[43m)\u001b[49m\u001b[43m \u001b[49m\u001b[38;5;129;43;01min\u001b[39;49;00m\u001b[43m \u001b[49m\u001b[43mproduct\u001b[49m\u001b[43m(\u001b[49m\n\u001b[0;32m    858\u001b[0m \u001b[43m        \u001b[49m\u001b[38;5;28;43menumerate\u001b[39;49m\u001b[43m(\u001b[49m\u001b[43mcandidate_params\u001b[49m\u001b[43m)\u001b[49m\u001b[43m,\u001b[49m\u001b[43m \u001b[49m\u001b[38;5;28;43menumerate\u001b[39;49m\u001b[43m(\u001b[49m\u001b[43mcv\u001b[49m\u001b[38;5;241;43m.\u001b[39;49m\u001b[43msplit\u001b[49m\u001b[43m(\u001b[49m\u001b[43mX\u001b[49m\u001b[43m,\u001b[49m\u001b[43m \u001b[49m\u001b[43my\u001b[49m\u001b[43m,\u001b[49m\u001b[43m \u001b[49m\u001b[43mgroups\u001b[49m\u001b[43m)\u001b[49m\u001b[43m)\u001b[49m\n\u001b[0;32m    859\u001b[0m \u001b[43m    \u001b[49m\u001b[43m)\u001b[49m\n\u001b[0;32m    860\u001b[0m \u001b[43m\u001b[49m\u001b[43m)\u001b[49m\n\u001b[0;32m    862\u001b[0m \u001b[38;5;28;01mif\u001b[39;00m \u001b[38;5;28mlen\u001b[39m(out) \u001b[38;5;241m<\u001b[39m \u001b[38;5;241m1\u001b[39m:\n\u001b[0;32m    863\u001b[0m     \u001b[38;5;28;01mraise\u001b[39;00m \u001b[38;5;167;01mValueError\u001b[39;00m(\n\u001b[0;32m    864\u001b[0m         \u001b[38;5;124m\"\u001b[39m\u001b[38;5;124mNo fits were performed. \u001b[39m\u001b[38;5;124m\"\u001b[39m\n\u001b[0;32m    865\u001b[0m         \u001b[38;5;124m\"\u001b[39m\u001b[38;5;124mWas the CV iterator empty? \u001b[39m\u001b[38;5;124m\"\u001b[39m\n\u001b[0;32m    866\u001b[0m         \u001b[38;5;124m\"\u001b[39m\u001b[38;5;124mWere there no candidates?\u001b[39m\u001b[38;5;124m\"\u001b[39m\n\u001b[0;32m    867\u001b[0m     )\n",
      "File \u001b[1;32mD:\\anaconda3\\envs\\python39\\lib\\site-packages\\sklearn\\utils\\parallel.py:65\u001b[0m, in \u001b[0;36mParallel.__call__\u001b[1;34m(self, iterable)\u001b[0m\n\u001b[0;32m     60\u001b[0m config \u001b[38;5;241m=\u001b[39m get_config()\n\u001b[0;32m     61\u001b[0m iterable_with_config \u001b[38;5;241m=\u001b[39m (\n\u001b[0;32m     62\u001b[0m     (_with_config(delayed_func, config), args, kwargs)\n\u001b[0;32m     63\u001b[0m     \u001b[38;5;28;01mfor\u001b[39;00m delayed_func, args, kwargs \u001b[38;5;129;01min\u001b[39;00m iterable\n\u001b[0;32m     64\u001b[0m )\n\u001b[1;32m---> 65\u001b[0m \u001b[38;5;28;01mreturn\u001b[39;00m \u001b[38;5;28;43msuper\u001b[39;49m\u001b[43m(\u001b[49m\u001b[43m)\u001b[49m\u001b[38;5;241;43m.\u001b[39;49m\u001b[38;5;21;43m__call__\u001b[39;49m\u001b[43m(\u001b[49m\u001b[43miterable_with_config\u001b[49m\u001b[43m)\u001b[49m\n",
      "File \u001b[1;32mD:\\anaconda3\\envs\\python39\\lib\\site-packages\\joblib\\parallel.py:1098\u001b[0m, in \u001b[0;36mParallel.__call__\u001b[1;34m(self, iterable)\u001b[0m\n\u001b[0;32m   1095\u001b[0m     \u001b[38;5;28mself\u001b[39m\u001b[38;5;241m.\u001b[39m_iterating \u001b[38;5;241m=\u001b[39m \u001b[38;5;28;01mFalse\u001b[39;00m\n\u001b[0;32m   1097\u001b[0m \u001b[38;5;28;01mwith\u001b[39;00m \u001b[38;5;28mself\u001b[39m\u001b[38;5;241m.\u001b[39m_backend\u001b[38;5;241m.\u001b[39mretrieval_context():\n\u001b[1;32m-> 1098\u001b[0m     \u001b[38;5;28;43mself\u001b[39;49m\u001b[38;5;241;43m.\u001b[39;49m\u001b[43mretrieve\u001b[49m\u001b[43m(\u001b[49m\u001b[43m)\u001b[49m\n\u001b[0;32m   1099\u001b[0m \u001b[38;5;66;03m# Make sure that we get a last message telling us we are done\u001b[39;00m\n\u001b[0;32m   1100\u001b[0m elapsed_time \u001b[38;5;241m=\u001b[39m time\u001b[38;5;241m.\u001b[39mtime() \u001b[38;5;241m-\u001b[39m \u001b[38;5;28mself\u001b[39m\u001b[38;5;241m.\u001b[39m_start_time\n",
      "File \u001b[1;32mD:\\anaconda3\\envs\\python39\\lib\\site-packages\\joblib\\parallel.py:975\u001b[0m, in \u001b[0;36mParallel.retrieve\u001b[1;34m(self)\u001b[0m\n\u001b[0;32m    973\u001b[0m \u001b[38;5;28;01mtry\u001b[39;00m:\n\u001b[0;32m    974\u001b[0m     \u001b[38;5;28;01mif\u001b[39;00m \u001b[38;5;28mgetattr\u001b[39m(\u001b[38;5;28mself\u001b[39m\u001b[38;5;241m.\u001b[39m_backend, \u001b[38;5;124m'\u001b[39m\u001b[38;5;124msupports_timeout\u001b[39m\u001b[38;5;124m'\u001b[39m, \u001b[38;5;28;01mFalse\u001b[39;00m):\n\u001b[1;32m--> 975\u001b[0m         \u001b[38;5;28mself\u001b[39m\u001b[38;5;241m.\u001b[39m_output\u001b[38;5;241m.\u001b[39mextend(\u001b[43mjob\u001b[49m\u001b[38;5;241;43m.\u001b[39;49m\u001b[43mget\u001b[49m\u001b[43m(\u001b[49m\u001b[43mtimeout\u001b[49m\u001b[38;5;241;43m=\u001b[39;49m\u001b[38;5;28;43mself\u001b[39;49m\u001b[38;5;241;43m.\u001b[39;49m\u001b[43mtimeout\u001b[49m\u001b[43m)\u001b[49m)\n\u001b[0;32m    976\u001b[0m     \u001b[38;5;28;01melse\u001b[39;00m:\n\u001b[0;32m    977\u001b[0m         \u001b[38;5;28mself\u001b[39m\u001b[38;5;241m.\u001b[39m_output\u001b[38;5;241m.\u001b[39mextend(job\u001b[38;5;241m.\u001b[39mget())\n",
      "File \u001b[1;32mD:\\anaconda3\\envs\\python39\\lib\\site-packages\\joblib\\_parallel_backends.py:567\u001b[0m, in \u001b[0;36mLokyBackend.wrap_future_result\u001b[1;34m(future, timeout)\u001b[0m\n\u001b[0;32m    564\u001b[0m \u001b[38;5;250m\u001b[39m\u001b[38;5;124;03m\"\"\"Wrapper for Future.result to implement the same behaviour as\u001b[39;00m\n\u001b[0;32m    565\u001b[0m \u001b[38;5;124;03mAsyncResults.get from multiprocessing.\"\"\"\u001b[39;00m\n\u001b[0;32m    566\u001b[0m \u001b[38;5;28;01mtry\u001b[39;00m:\n\u001b[1;32m--> 567\u001b[0m     \u001b[38;5;28;01mreturn\u001b[39;00m \u001b[43mfuture\u001b[49m\u001b[38;5;241;43m.\u001b[39;49m\u001b[43mresult\u001b[49m\u001b[43m(\u001b[49m\u001b[43mtimeout\u001b[49m\u001b[38;5;241;43m=\u001b[39;49m\u001b[43mtimeout\u001b[49m\u001b[43m)\u001b[49m\n\u001b[0;32m    568\u001b[0m \u001b[38;5;28;01mexcept\u001b[39;00m CfTimeoutError \u001b[38;5;28;01mas\u001b[39;00m e:\n\u001b[0;32m    569\u001b[0m     \u001b[38;5;28;01mraise\u001b[39;00m \u001b[38;5;167;01mTimeoutError\u001b[39;00m \u001b[38;5;28;01mfrom\u001b[39;00m \u001b[38;5;21;01me\u001b[39;00m\n",
      "File \u001b[1;32mD:\\anaconda3\\envs\\python39\\lib\\concurrent\\futures\\_base.py:441\u001b[0m, in \u001b[0;36mFuture.result\u001b[1;34m(self, timeout)\u001b[0m\n\u001b[0;32m    438\u001b[0m \u001b[38;5;28;01melif\u001b[39;00m \u001b[38;5;28mself\u001b[39m\u001b[38;5;241m.\u001b[39m_state \u001b[38;5;241m==\u001b[39m FINISHED:\n\u001b[0;32m    439\u001b[0m     \u001b[38;5;28;01mreturn\u001b[39;00m \u001b[38;5;28mself\u001b[39m\u001b[38;5;241m.\u001b[39m__get_result()\n\u001b[1;32m--> 441\u001b[0m \u001b[38;5;28;43mself\u001b[39;49m\u001b[38;5;241;43m.\u001b[39;49m\u001b[43m_condition\u001b[49m\u001b[38;5;241;43m.\u001b[39;49m\u001b[43mwait\u001b[49m\u001b[43m(\u001b[49m\u001b[43mtimeout\u001b[49m\u001b[43m)\u001b[49m\n\u001b[0;32m    443\u001b[0m \u001b[38;5;28;01mif\u001b[39;00m \u001b[38;5;28mself\u001b[39m\u001b[38;5;241m.\u001b[39m_state \u001b[38;5;129;01min\u001b[39;00m [CANCELLED, CANCELLED_AND_NOTIFIED]:\n\u001b[0;32m    444\u001b[0m     \u001b[38;5;28;01mraise\u001b[39;00m CancelledError()\n",
      "File \u001b[1;32mD:\\anaconda3\\envs\\python39\\lib\\threading.py:312\u001b[0m, in \u001b[0;36mCondition.wait\u001b[1;34m(self, timeout)\u001b[0m\n\u001b[0;32m    310\u001b[0m \u001b[38;5;28;01mtry\u001b[39;00m:    \u001b[38;5;66;03m# restore state no matter what (e.g., KeyboardInterrupt)\u001b[39;00m\n\u001b[0;32m    311\u001b[0m     \u001b[38;5;28;01mif\u001b[39;00m timeout \u001b[38;5;129;01mis\u001b[39;00m \u001b[38;5;28;01mNone\u001b[39;00m:\n\u001b[1;32m--> 312\u001b[0m         \u001b[43mwaiter\u001b[49m\u001b[38;5;241;43m.\u001b[39;49m\u001b[43macquire\u001b[49m\u001b[43m(\u001b[49m\u001b[43m)\u001b[49m\n\u001b[0;32m    313\u001b[0m         gotit \u001b[38;5;241m=\u001b[39m \u001b[38;5;28;01mTrue\u001b[39;00m\n\u001b[0;32m    314\u001b[0m     \u001b[38;5;28;01melse\u001b[39;00m:\n",
      "\u001b[1;31mKeyboardInterrupt\u001b[0m: "
     ]
    }
   ],
   "source": [
    "rf=RandomForestClassifier()\n",
    "hyper_params={\"max_features\": [1,3,10],\n",
    "              \"min_samples_split\":[2,3,10],\n",
    "              \"min_samples_leaf\":[1,3,10],\n",
    "              \"n_estimators\":[100,300, 400, 500],\n",
    "              \"criterion\":[\"gini\"]}\n",
    "\n",
    "model=GridSearchCV(rf, hyper_params, cv=5, scoring=\"f1_macro\", n_jobs=-1)\n",
    "model.fit(x_train,y_train)\n",
    "y_pred= model.predict(x_test)\n",
    "print(model.best_estimator_)\n",
    "\n",
    "print(\"----------------------\")\n",
    "\n",
    "accuracy_scores=[]\n",
    "f1_scores=[]\n",
    "precision_scores=[]\n",
    "recall_scores=[]\n",
    "\n",
    "\n",
    "accuracy_scores.append(accuracy_score(y_pred, y_test))\n",
    "f1_scores.append(f1_score(y_pred, y_test))\n",
    "precision_scores.append(precision_score(y_pred, y_test))\n",
    "recall_scores.append(recall_score(y_pred, y_test))\n",
    "\n",
    "\n",
    "\n",
    "# Print the Results\n",
    "print(f\"Accuracy:{accuracy_scores}\")\n",
    "print(f\"F1-Score:{f1_scores}\")\n",
    "print(f\"Precision:{precision_scores}\")\n",
    "print(f\"Recall:{recall_scores}\")\n",
    "\n",
    "\n",
    "\n",
    "print(\"Classification_Report\")\n",
    "print(\"-----------------------\")\n",
    "print(classification_report(y_test,y_pred))\n",
    "print(\"Confusion_Matrix\")\n",
    "print(\"----------------------\")\n",
    "ConfusionMatrixDisplay.from_predictions(y_test, y_pred)\n",
    "plt.show()"
   ]
  },
  {
   "cell_type": "markdown",
   "id": "7a99da7d",
   "metadata": {
    "papermill": {
     "duration": 0.025033,
     "end_time": "2023-09-10T03:09:30.362890",
     "exception": false,
     "start_time": "2023-09-10T03:09:30.337857",
     "status": "completed"
    },
    "tags": []
   },
   "source": [
    "> # LightGradientBoostingClassifier "
   ]
  },
  {
   "cell_type": "code",
   "execution_count": 33,
   "id": "c73b45e9",
   "metadata": {
    "execution": {
     "iopub.execute_input": "2023-09-10T03:09:30.418681Z",
     "iopub.status.busy": "2023-09-10T03:09:30.418326Z",
     "iopub.status.idle": "2023-09-10T03:09:35.414523Z",
     "shell.execute_reply": "2023-09-10T03:09:35.412884Z"
    },
    "papermill": {
     "duration": 5.028466,
     "end_time": "2023-09-10T03:09:35.416982",
     "exception": false,
     "start_time": "2023-09-10T03:09:30.388516",
     "status": "completed"
    },
    "tags": []
   },
   "outputs": [
    {
     "name": "stdout",
     "output_type": "stream",
     "text": [
      "[LightGBM] [Warning] min_sum_hessian_in_leaf is set=11, min_child_weight=0.001 will be ignored. Current value: min_sum_hessian_in_leaf=11\n",
      "[LightGBM] [Warning] bagging_fraction is set=0.8, subsample=1.0 will be ignored. Current value: bagging_fraction=0.8\n",
      "[LightGBM] [Warning] bagging_freq is set=4, subsample_freq=0 will be ignored. Current value: bagging_freq=4\n",
      "[LightGBM] [Warning] min_sum_hessian_in_leaf is set=11, min_child_weight=0.001 will be ignored. Current value: min_sum_hessian_in_leaf=11\n",
      "[LightGBM] [Warning] bagging_fraction is set=0.8, subsample=1.0 will be ignored. Current value: bagging_fraction=0.8\n",
      "[LightGBM] [Warning] bagging_freq is set=4, subsample_freq=0 will be ignored. Current value: bagging_freq=4\n",
      "[LightGBM] [Warning] Auto-choosing col-wise multi-threading, the overhead of testing was 0.000189 seconds.\n",
      "You can set `force_col_wise=true` to remove the overhead.\n",
      "Accuracy:0.6317395727365208\n",
      "F1-Score:0.3864406779661017\n",
      "Precision:0.29765013054830286\n",
      "Recall:0.5507246376811594\n",
      "Classification_Report\n",
      "-----------------------\n",
      "              precision    recall  f1-score   support\n",
      "\n",
      "           0       0.65      0.84      0.74       600\n",
      "           1       0.55      0.30      0.39       383\n",
      "\n",
      "    accuracy                           0.63       983\n",
      "   macro avg       0.60      0.57      0.56       983\n",
      "weighted avg       0.61      0.63      0.60       983\n",
      "\n",
      "Confusion_Matrix\n",
      "----------------------\n"
     ]
    },
    {
     "data": {
      "image/png": "[encoded data removed]",
      "text/plain": [
       "<Figure size 640x480 with 2 Axes>"
      ]
     },
     "metadata": {},
     "output_type": "display_data"
    }
   ],
   "source": [
    "import lightgbm as lgb\n",
    "hyper_params = {\n",
    "                 \"objective\":'binary', \n",
    "                 \"num_leaves\":9,\n",
    "                 \"learning_rate\": 0.01, \n",
    "                 \"n_estimators\":1000,\n",
    "                 \"max_bin\": 500, \n",
    "                 \"bagging_fraction\": 0.8,\n",
    "                 \"bagging_freq\": 4, \n",
    "                 \"bagging_seed\": 8,\n",
    "                 \"feature_fraction_seed\": 8,\n",
    "                 \"min_sum_hessian_in_leaf\":11,\n",
    "                 \"verbose\": 0,\n",
    "                \"random_state\": 42\n",
    "               }\n",
    "\n",
    "model_lgb= lgb.LGBMClassifier(**hyper_params)\n",
    "model_lgb.fit(x_train,y_train)\n",
    "y_pred= model_lgb.predict(x_test)\n",
    "\n",
    "\n",
    "# Print the Results\n",
    "print(f\"Accuracy:{accuracy_score(y_pred,y_test)}\")\n",
    "print(f\"F1-Score:{f1_score(y_pred,y_test)}\")\n",
    "print(f\"Precision:{precision_score(y_pred,y_test)}\")\n",
    "print(f\"Recall:{recall_score(y_pred,y_test)}\")\n",
    "\n",
    "\n",
    "\n",
    "print(\"Classification_Report\")\n",
    "print(\"-----------------------\")\n",
    "print(classification_report(y_test,y_pred))\n",
    "print(\"Confusion_Matrix\")\n",
    "print(\"----------------------\")\n",
    "ConfusionMatrixDisplay.from_predictions(y_test, y_pred)\n",
    "plt.show()"
   ]
  },
  {
   "cell_type": "markdown",
   "id": "e6651ef3",
   "metadata": {
    "papermill": {
     "duration": 0.025107,
     "end_time": "2023-09-10T03:09:35.470058",
     "exception": false,
     "start_time": "2023-09-10T03:09:35.444951",
     "status": "completed"
    },
    "tags": []
   },
   "source": [
    "> # GradientBoostingClassifier"
   ]
  },
  {
   "cell_type": "code",
   "execution_count": null,
   "id": "e9837e2b",
   "metadata": {
    "execution": {
     "iopub.execute_input": "2023-09-10T03:09:35.522688Z",
     "iopub.status.busy": "2023-09-10T03:09:35.521248Z",
     "iopub.status.idle": "2023-09-10T04:54:41.522383Z",
     "shell.execute_reply": "2023-09-10T04:54:41.521605Z"
    },
    "papermill": {
     "duration": 6306.06112,
     "end_time": "2023-09-10T04:54:41.555702",
     "exception": false,
     "start_time": "2023-09-10T03:09:35.494582",
     "status": "completed"
    },
    "tags": []
   },
   "outputs": [],
   "source": [
    "gbd= GradientBoostingClassifier()\n",
    "hyper_params = { \"learning_rate\": [0.05, 0.1, 0.2,0.01],\n",
    "                 \"min_samples_split\": [2,3,10,12,12],\n",
    "                 \"min_samples_leaf\": [1,3,10],\n",
    "                \"n_estimators\":[100,200,300,400,500],\n",
    "                \"max_features\":[1,4,6,8]\n",
    "                 \n",
    "                      }\n",
    "\n",
    "model=GridSearchCV(gbd, hyper_params, cv=5, scoring=\"f1_macro\", n_jobs=-1)\n",
    "model.fit(x_train,y_train)\n",
    "y_pred= model.predict(x_test)\n",
    "print(model.best_estimator_)\n",
    "\n",
    "print(\"----------------------\")\n",
    "\n",
    "accuracy_scores=[]\n",
    "f1_scores=[]\n",
    "precision_scores=[]\n",
    "recall_scores=[]\n",
    "\n",
    "\n",
    "accuracy_scores.append(accuracy_score(y_pred, y_test))\n",
    "f1_scores.append(f1_score(y_pred, y_test))\n",
    "precision_scores.append(precision_score(y_pred, y_test))\n",
    "recall_scores.append(recall_score(y_pred, y_test))\n",
    "\n",
    "\n",
    "\n",
    "# Print the Results\n",
    "print(f\"Accuracy:{accuracy_scores}\")\n",
    "print(f\"F1-Score:{f1_scores}\")\n",
    "print(f\"Precision:{precision_scores}\")\n",
    "print(f\"Recall:{recall_scores}\")\n",
    "\n",
    "\n",
    "\n",
    "print(\"Classification_Report\")\n",
    "print(\"-----------------------\")\n",
    "print(classification_report(y_test,y_pred))\n",
    "print(\"Confusion_Matrix\")\n",
    "print(\"----------------------\")\n",
    "ConfusionMatrixDisplay.from_predictions(y_test, y_pred)\n",
    "plt.show()"
   ]
  },
  {
   "cell_type": "markdown",
   "id": "2715e224",
   "metadata": {},
   "source": [
    "> # catboost"
   ]
  },
  {
   "cell_type": "code",
   "execution_count": null,
   "id": "33d9f2f0",
   "metadata": {
    "papermill": {
     "duration": 0.025529,
     "end_time": "2023-09-10T04:54:41.605960",
     "exception": false,
     "start_time": "2023-09-10T04:54:41.580431",
     "status": "completed"
    },
    "tags": []
   },
   "outputs": [],
   "source": [
    "from catboost import CatBoostRegressor\n",
    "\n",
    "# 建立模型\n",
    "model = CatBoostRegressor(random_state=42,\n",
    "                         loss_function='RMSE',\n",
    "                         eval_metric='RMSE',\n",
    "                         use_best_model=True)\n",
    "# 使用訓練資料訓練模型\n",
    "model.fit(x_train,y_train, eval_set=(x_test, y_test), verbose=1, plot=True)"
   ]
  },
  {
   "cell_type": "code",
   "execution_count": null,
   "id": "9d3e2f11",
   "metadata": {
    "papermill": {
     "duration": 0.02476,
     "end_time": "2023-09-10T04:54:41.655616",
     "exception": false,
     "start_time": "2023-09-10T04:54:41.630856",
     "status": "completed"
    },
    "tags": []
   },
   "outputs": [],
   "source": [
    "from catboost import CatBoostRegressor, Pool, EShapCalcType, EFeaturesSelectionAlgorithm\n",
    "\n",
    "# feature_names = ['F{}'.format(i) for i in range(X_train.shape[1])]\n",
    "train_pool = Pool(x_train, y_train, feature_names=dataframe.feature_names.tolist())\n",
    "test_pool = Pool(x_test, y_test, feature_names=dataframe.feature_names.tolist())\n",
    "\n",
    "model = CatBoostRegressor(random_state=42,\n",
    "                         loss_function='RMSE',\n",
    "                         eval_metric='RMSE',\n",
    "                         use_best_model=True)\n",
    "summary = model.select_features(\n",
    "    train_pool,\n",
    "    eval_set=test_pool,\n",
    "    features_for_select='0-12',\n",
    "    num_features_to_select=3,\n",
    "    steps=2,\n",
    "    algorithm=EFeaturesSelectionAlgorithm.RecursiveByShapValues,\n",
    "    shap_calc_type=EShapCalcType.Regular,\n",
    "    train_final_model=True,\n",
    "    logging_level='Silent',\n",
    "    plot=False\n",
    ")\n",
    "summary"
   ]
  },
  {
   "cell_type": "code",
   "execution_count": null,
   "id": "63d43ab2",
   "metadata": {},
   "outputs": [],
   "source": []
  }
 ],
 "metadata": {
  "kernelspec": {
   "display_name": "Python 3 (ipykernel)",
   "language": "python",
   "name": "python3"
  },
  "language_info": {
   "codemirror_mode": {
    "name": "ipython",
    "version": 3
   },
   "file_extension": ".py",
   "mimetype": "text/x-python",
   "name": "python",
   "nbconvert_exporter": "python",
   "pygments_lexer": "ipython3",
   "version": "3.9.18"
  },
  "papermill": {
   "default_parameters": {},
   "duration": 6716.875413,
   "end_time": "2023-09-10T04:54:44.311599",
   "environment_variables": {},
   "exception": null,
   "input_path": "__notebook__.ipynb",
   "output_path": "__notebook__.ipynb",
   "parameters": {},
   "start_time": "2023-09-10T03:02:47.436186",
   "version": "2.4.0"
  }
 },
 "nbformat": 4,
 "nbformat_minor": 5
}
